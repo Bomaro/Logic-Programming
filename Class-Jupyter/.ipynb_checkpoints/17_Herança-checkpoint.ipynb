{
 "cells": [
  {
   "cell_type": "markdown",
   "id": "fe474443",
   "metadata": {},
   "source": [
    "<div style=\"text-align: center\"> <h2> \n",
    "Herança\n",
    "    </h2> </div>"
   ]
  },
  {
   "cell_type": "markdown",
   "id": "cf3cc30d",
   "metadata": {},
   "source": [
    "O termo mais associado com a programação orientada a objeto é herança. A herança é a\n",
    "capacidade de definir uma nova classe que seja uma versão modificada de uma classe\n",
    "existente. Neste estudo demonstrarei a herança usando classes que representam jogos de\n",
    "cartas, baralhos e mãos de pôquer."
   ]
  },
  {
   "cell_type": "markdown",
   "id": "3c5c2601",
   "metadata": {},
   "source": [
    "<div style=\"text-align: center\"> <h2> \n",
    "Objetos Card\n",
    "    </h2> </div>"
   ]
  },
  {
   "cell_type": "markdown",
   "id": "895fc67a",
   "metadata": {},
   "source": [
    "Há 52 cartas em um baralho, e cada uma pertence a 1 dos 4 naipes e a 1 dos 13 valores. Os\n",
    "naipes são espadas, copas, ouros e paus (no bridge, em ordem descendente). A ordem dos\n",
    "valores é ás, 2, 3, 4, 5, 6, 7, 8, 9, 10, valete, dama e rei. Dependendo do jogo que estiver\n",
    "jogando, um ás pode ser mais alto que o rei ou mais baixo que 2.\n",
    "\n",
    "Se quiséssemos definir um novo objeto para representar uma carta de jogo, os atributos\n",
    "óbvios seriam rank (valor) e suit (naipe). Mas não é tão óbvio qual tipo de atributo\n",
    "deveriam ser. Uma possibilidade é usar strings com palavras como ‘Spade’ (Espadas) para\n",
    "naipes e ‘Queen’ (Dama) para valores. Um problema com esta implementação é que não\n",
    "seria fácil comparar cartas para ver qual valor ou naipe tem classificação mais alta em\n",
    "relação aos outros."
   ]
  },
  {
   "cell_type": "markdown",
   "id": "ff822a28",
   "metadata": {},
   "source": [
    "Uma alternativa é usar números inteiros para codificar os valores e os naipes. Neste\n",
    "contexto, “codificar” significa que vamos definir um mapeamento entre números e naipes,\n",
    "ou entre números e valores. Este tipo de codificação não tem nada a ver com criptografia."
   ]
  },
  {
   "cell_type": "markdown",
   "id": "dbb0d924",
   "metadata": {},
   "source": [
    "Por exemplo, esta tabela mostra os naipes e os códigos de número inteiro correspondentes:\n",
    "\n",
    "Spades (Espadas) ↦ 3\n",
    "\n",
    "Hearts (Copas) ↦ 2\n",
    "\n",
    "Diamonds (Ouros) ↦ 1\n",
    "\n",
    "Clubs (Paus) ↦ 0"
   ]
  },
  {
   "cell_type": "markdown",
   "id": "2f450af2",
   "metadata": {},
   "source": [
    "Este código facilita a comparação entre as cartas; como naipes mais altos mapeiam a\n",
    "números mais altos, podemos comparar naipes aos seus códigos.\n",
    "\n",
    "O mapeamento de valores é até óbvio; cada um dos valores numéricos é mapeado ao\n",
    "número inteiro correspondente, e para cartas com figuras:"
   ]
  },
  {
   "cell_type": "markdown",
   "id": "1056842e",
   "metadata": {},
   "source": [
    "Jack (Valete) ↦ 11\n",
    "\n",
    "Queen (Dama) ↦ 12\n",
    "\n",
    "King (Rei) ↦ 13"
   ]
  },
  {
   "cell_type": "markdown",
   "id": "c0ab1a9d",
   "metadata": {},
   "source": [
    "Estou usando o símbolo ↦ para deixar claro que esses mapeamentos não são parte do\n",
    "programa em Python. Eles são parte do projeto do programa, mas não aparecem\n",
    "explicitamente no código."
   ]
  },
  {
   "cell_type": "code",
   "execution_count": 8,
   "id": "fd45f3be",
   "metadata": {},
   "outputs": [],
   "source": [
    "\"\"\"A definição de classe para Card (carta) é assim:\"\"\"\n",
    "class Card:\n",
    "    def __init__(self, suit=0, rank=2): #\"\"\"Represents a standard playing card.\"\"\"\n",
    "        self.suit = suit\n",
    "        self.rank = rank"
   ]
  },
  {
   "cell_type": "code",
   "execution_count": 9,
   "id": "a783b23e",
   "metadata": {},
   "outputs": [],
   "source": [
    "\"\"\"Como sempre, o método __init__ recebe um parâmetro opcional de cada atributo. A carta\n",
    "padrão é 2 de paus.\n",
    "Para criar um Card, você chama Card com o naipe e valor desejados:\"\"\"\n",
    "queen_of_diamonds = Card(1, 12)"
   ]
  },
  {
   "cell_type": "markdown",
   "id": "0c35dde3",
   "metadata": {},
   "source": [
    "<div style=\"text-align: center\"> <h2> \n",
    "Atributos de classe\n",
    "    </h2> </div>"
   ]
  },
  {
   "cell_type": "markdown",
   "id": "c24f38d3",
   "metadata": {},
   "source": [
    "Para exibir objetos Card de uma forma que as pessoas possam ler com facilidade,\n",
    "precisamos de um mapeamento dos códigos de número inteiro aos naipes e valores\n",
    "correspondentes. Uma forma natural de fazer isso é com listas de strings. Atribuímos essas\n",
    "listas a atributos de classe:"
   ]
  },
  {
   "cell_type": "code",
   "execution_count": 15,
   "id": "8dde5565",
   "metadata": {},
   "outputs": [],
   "source": [
    "class Card:\n",
    "    def __init__(self, suit=0, rank=2): #\"\"\"Represents a standard playing card.\"\"\"\n",
    "        self.suit = suit\n",
    "        self.rank = rank\n",
    "    suit_names = ['Clubs', 'Diamonds', 'Hearts', 'Spades']\n",
    "    rank_names = [None, 'Ace', '2', '3', '4', '5', '6', '7', '8', '9', '10', 'Jack', 'Queen', 'King']\n",
    "    def __str__(self):\n",
    "        return '%s of %s' % (Card.rank_names[self.rank], Card.suit_names[self.suit])"
   ]
  },
  {
   "cell_type": "markdown",
   "id": "00f676d8",
   "metadata": {},
   "source": [
    "Variáveis como suit_names e rank_names, que são definidas dentro de uma classe, mas\n",
    "fora de qualquer método, chamam-se atributos de classe porque são associadas com o\n",
    "objeto de classe Card.\n",
    "Este termo as distingue de variáveis como suit e rank, chamadas de atributos de instância\n",
    "porque são associados com determinada instância."
   ]
  },
  {
   "cell_type": "markdown",
   "id": "a9bbe61e",
   "metadata": {},
   "source": [
    "Ambos os tipos de atributo são acessados usando a notação de ponto. Por exemplo, em\n",
    "__str__, self é um objeto Card, e self.rank é o seu valor. De forma semelhante, Card é\n",
    "um objeto de classe, e Card.rank_names é uma lista de strings associadas à essa classe.\n",
    "\n",
    "Cada carta tem seu próprio suit e rank, mas há só uma cópia de suit_names e rank_names.\n",
    "\n",
    "Juntando tudo, a expressão Card.rank_names[self.rank] significa “use o rank (valor) do\n",
    "atributo do objeto self como um índice na lista rank_names da classe Card e selecione a\n",
    "string adequada”."
   ]
  },
  {
   "cell_type": "markdown",
   "id": "7933a297",
   "metadata": {},
   "source": [
    "O primeiro elemento de rank_names é None, porque não há nenhuma carta com valor\n",
    "zero. Incluindo None para ocupar uma variável, conseguimos fazer um belo mapeamento\n",
    "onde o índice 2 é associado à string ‘2’, e assim por diante. Para evitar ter que usar esse\n",
    "truque, poderíamos usar um dicionário em vez de uma lista."
   ]
  },
  {
   "cell_type": "code",
   "execution_count": 16,
   "id": "4e885de2",
   "metadata": {},
   "outputs": [
    {
     "name": "stdout",
     "output_type": "stream",
     "text": [
      "Jack of Hearts\n"
     ]
    }
   ],
   "source": [
    "\"\"\"Com os métodos que temos por enquanto, podemos criar e exibir cartas:\"\"\"\n",
    "card1 = Card(2, 11)\n",
    "print(card1)"
   ]
  },
  {
   "cell_type": "markdown",
   "id": "3d5fe220",
   "metadata": {},
   "source": [
    "<div style=\"text-align: center\"> <h2> \n",
    "Comparação de cartas\n",
    "    </h2> </div>"
   ]
  },
  {
   "cell_type": "markdown",
   "id": "b217d3f4",
   "metadata": {},
   "source": [
    "<div><p>Para tipos integrados, há operadores relacionais (<, >, == etc.) que comparam valores e\n",
    "determinam quando um é maior, menor ou igual a outro. Para tipos definidos pelo\n",
    "programador, podemos ignorar o comportamento dos operadores integrados fornecendo\n",
    "um método denominado __lt__, que representa “menos que”.\n",
    "<br><br>\n",
    "__lt__ recebe dois parâmetros, self e other, e True se self for estritamente menor que\n",
    "other.\n",
    "<br><br>\n",
    "A ordem correta das cartas não é óbvia. Por exemplo, qual é melhor, o 3 de paus ou o 2 de\n",
    "ouros? Uma tem o valor mais alto, mas a outra tem um naipe mais alto. Para comparar\n",
    "cartas, é preciso decidir o que é mais importante, o valor ou o naipe.\n",
    "<br><br>\n",
    "A resposta pode depender de que jogo você está jogando, mas, para manter a simplicidade,\n",
    "vamos fazer a escolha arbitrária de que o naipe é mais importante, então todas as cartas de\n",
    "    espadas são mais importantes que as de ouros, e assim por diante.</p></div>"
   ]
  },
  {
   "cell_type": "code",
   "execution_count": 17,
   "id": "665d2b13",
   "metadata": {},
   "outputs": [],
   "source": [
    "\"\"\"Com isto decidido, podemos escrever __lt__:\"\"\"\n",
    "\n",
    "class Card:\n",
    "    \n",
    "    def __init__(self, suit=0, rank=2): #\"\"\"Represents a standard playing card.\"\"\"\n",
    "        self.suit = suit\n",
    "        self.rank = rank\n",
    "    \n",
    "    suit_names = ['Clubs', 'Diamonds', 'Hearts', 'Spades']\n",
    "   \n",
    "    rank_names = [None, 'Ace', '2', '3', '4', '5', '6', '7', '8', '9', '10', 'Jack', 'Queen', 'King']\n",
    "    \n",
    "    def __str__(self):\n",
    "        return '%s of %s' % (Card.rank_names[self.rank], Card.suit_names[self.suit])\n",
    "    \n",
    "    def __lt__(self, other):\n",
    "        # conferir os naipes\n",
    "        if self.suit < other.suit: return True\n",
    "        if self.suit > other.suit: return False\n",
    "        # os naipes são os mesmos... conferir valores\n",
    "        return self.rank < other.rank"
   ]
  },
  {
   "cell_type": "code",
   "execution_count": 18,
   "id": "a42f4083",
   "metadata": {},
   "outputs": [],
   "source": [
    "\"\"\"Você pode escrever isso de forma mais concisa usando uma comparação de tuplas:\"\"\"\n",
    "class Card:\n",
    "    \n",
    "    def __init__(self, suit=0, rank=2): #\"\"\"Represents a standard playing card.\"\"\"\n",
    "        self.suit = suit\n",
    "        self.rank = rank\n",
    "    \n",
    "    suit_names = ['Clubs', 'Diamonds', 'Hearts', 'Spades']\n",
    "   \n",
    "    rank_names = [None, 'Ace', '2', '3', '4', '5', '6', '7', '8', '9', '10', 'Jack', 'Queen', 'King']\n",
    "    \n",
    "    def __str__(self):\n",
    "        return '%s of %s' % (Card.rank_names[self.rank], Card.suit_names[self.suit])\n",
    "    \n",
    "    def __lt__(self, other):\n",
    "        t1 = self.suit, self.rank\n",
    "        t2 = other.suit, other.rank\n",
    "        return t1 < t2"
   ]
  },
  {
   "cell_type": "markdown",
   "id": "3d93ac68",
   "metadata": {},
   "source": [
    "<div style=\"text-align: center\"> <h2> \n",
    "Baralhos\n",
    "    </h2> </div>"
   ]
  },
  {
   "cell_type": "markdown",
   "id": "d0765229",
   "metadata": {},
   "source": [
    "Agora que temos Card, o próximo passo é definir Deck (baralho). Como um baralho é\n",
    "composto de cartas, é natural que um baralho contenha uma lista de cartas como atributo."
   ]
  },
  {
   "cell_type": "code",
   "execution_count": 20,
   "id": "f619a3bc",
   "metadata": {},
   "outputs": [],
   "source": [
    "\"\"\"Veja a seguir uma definição de classe para Deck. O método init cria o atributo cards e gera\n",
    "o conjunto padrão de 52 cartas:\"\"\"\n",
    "class Deck:\n",
    "    def __init__(self):\n",
    "        self.cards = []\n",
    "        for suit in range(4):\n",
    "            for rank in range(1, 14):\n",
    "                card = Card(suit, rank)\n",
    "                self.cards.append(card)"
   ]
  },
  {
   "cell_type": "markdown",
   "id": "243ad51c",
   "metadata": {},
   "source": [
    "A forma mais fácil de preencher o baralho é com um loop aninhado. O loop exterior\n",
    "enumera os naipes de 0 a 3. O loop interior enumera os valores de 1 a 13. Cada iteração\n",
    "cria um novo Card com o naipe e valor atual, e a acrescenta a self.cards."
   ]
  },
  {
   "cell_type": "markdown",
   "id": "4fc26a0a",
   "metadata": {},
   "source": [
    "<div style=\"text-align: center\"> <h2> \n",
    "Exibição do baralho\n",
    "    </h2> </div>"
   ]
  },
  {
   "cell_type": "code",
   "execution_count": 23,
   "id": "f24a27e4",
   "metadata": {},
   "outputs": [],
   "source": [
    "\"\"\"Aqui está um método str para Deck:\"\"\"\n",
    "class Deck:\n",
    "    def __init__(self):\n",
    "        self.cards = []\n",
    "        for suit in range(4):\n",
    "            for rank in range(1, 14):\n",
    "                card = Card(suit, rank)\n",
    "                self.cards.append(card)\n",
    "    def __str__(self):\n",
    "        res = []\n",
    "        for card in self.cards:\n",
    "            res.append(str(card))\n",
    "        return '\\n'.join(res)"
   ]
  },
  {
   "cell_type": "code",
   "execution_count": 24,
   "id": "0abc9159",
   "metadata": {},
   "outputs": [
    {
     "data": {
      "text/plain": [
       "'Este método demonstra uma forma eficiente de acumular uma string grande: a criação de\\numa lista de strings e a utilização do método de string join. A função integrada str invoca o\\nmétodo __str__ em cada carta e retorna a representação da string.'"
      ]
     },
     "execution_count": 24,
     "metadata": {},
     "output_type": "execute_result"
    }
   ],
   "source": [
    "\"\"\"Este método demonstra uma forma eficiente de acumular uma string grande: a criação de\n",
    "uma lista de strings e a utilização do método de string join. A função integrada str invoca o\n",
    "método __str__ em cada carta e retorna a representação da string.\"\"\""
   ]
  },
  {
   "cell_type": "code",
   "execution_count": 25,
   "id": "71ce87e8",
   "metadata": {},
   "outputs": [
    {
     "name": "stdout",
     "output_type": "stream",
     "text": [
      "Ace of Clubs\n",
      "2 of Clubs\n",
      "3 of Clubs\n",
      "4 of Clubs\n",
      "5 of Clubs\n",
      "6 of Clubs\n",
      "7 of Clubs\n",
      "8 of Clubs\n",
      "9 of Clubs\n",
      "10 of Clubs\n",
      "Jack of Clubs\n",
      "Queen of Clubs\n",
      "King of Clubs\n",
      "Ace of Diamonds\n",
      "2 of Diamonds\n",
      "3 of Diamonds\n",
      "4 of Diamonds\n",
      "5 of Diamonds\n",
      "6 of Diamonds\n",
      "7 of Diamonds\n",
      "8 of Diamonds\n",
      "9 of Diamonds\n",
      "10 of Diamonds\n",
      "Jack of Diamonds\n",
      "Queen of Diamonds\n",
      "King of Diamonds\n",
      "Ace of Hearts\n",
      "2 of Hearts\n",
      "3 of Hearts\n",
      "4 of Hearts\n",
      "5 of Hearts\n",
      "6 of Hearts\n",
      "7 of Hearts\n",
      "8 of Hearts\n",
      "9 of Hearts\n",
      "10 of Hearts\n",
      "Jack of Hearts\n",
      "Queen of Hearts\n",
      "King of Hearts\n",
      "Ace of Spades\n",
      "2 of Spades\n",
      "3 of Spades\n",
      "4 of Spades\n",
      "5 of Spades\n",
      "6 of Spades\n",
      "7 of Spades\n",
      "8 of Spades\n",
      "9 of Spades\n",
      "10 of Spades\n",
      "Jack of Spades\n",
      "Queen of Spades\n",
      "King of Spades\n"
     ]
    }
   ],
   "source": [
    "\"\"\"Como invocamos join em um caractere newline, as cartas são separadas por quebras de\n",
    "linha. O resultado é esse:\"\"\"\n",
    "deck = Deck()\n",
    "print(deck)"
   ]
  },
  {
   "cell_type": "markdown",
   "id": "ad2d6285",
   "metadata": {},
   "source": [
    "Embora o resultado apareça em 52 linhas, na verdade ele é uma string longa com quebras\n",
    "de linha."
   ]
  },
  {
   "cell_type": "markdown",
   "id": "7c167ad6",
   "metadata": {},
   "source": [
    "<div style=\"text-align: center\"> <h2> \n",
    "Adição, remoção, embaralhamento e classificação\n",
    "    </h2> </div>"
   ]
  },
  {
   "cell_type": "code",
   "execution_count": 26,
   "id": "dddd79a2",
   "metadata": {},
   "outputs": [],
   "source": [
    "\"\"\"Para lidar com as cartas, gostaríamos de ter um método que removesse uma carta do\n",
    "baralho e a devolvesse. O método de lista pop oferece uma forma conveniente de fazer\n",
    "isso:\"\"\"\n",
    "class Deck:\n",
    "    def __init__(self):\n",
    "        self.cards = []\n",
    "        for suit in range(4):\n",
    "            for rank in range(1, 14):\n",
    "                card = Card(suit, rank)\n",
    "                self.cards.append(card)\n",
    "    def __str__(self):\n",
    "        res = []\n",
    "        for card in self.cards:\n",
    "            res.append(str(card))\n",
    "        return '\\n'.join(res)\n",
    "    def pop_card(self):\n",
    "        return self.cards.pop()"
   ]
  },
  {
   "cell_type": "code",
   "execution_count": 27,
   "id": "9d600225",
   "metadata": {},
   "outputs": [],
   "source": [
    "\"\"\"Como pop retira a última carta na lista, estamos lidando com o fundo do baralho.\n",
    "Para adicionar uma carta, podemos usar o método de lista append:\"\"\"\n",
    "class Deck:\n",
    "    def __init__(self):\n",
    "        self.cards = []\n",
    "        for suit in range(4):\n",
    "            for rank in range(1, 14):\n",
    "                card = Card(suit, rank)\n",
    "                self.cards.append(card)\n",
    "    def __str__(self):\n",
    "        res = []\n",
    "        for card in self.cards:\n",
    "            res.append(str(card))\n",
    "        return '\\n'.join(res)\n",
    "    def pop_card(self):\n",
    "        return self.cards.pop()\n",
    "    def add_card(self, card):\n",
    "        self.cards.append(card)"
   ]
  },
  {
   "cell_type": "markdown",
   "id": "c717c075",
   "metadata": {},
   "source": [
    "Um método como esse, que usa outro método sem dar muito trabalho, às vezes é chamado\n",
    "de folheado. A metáfora vem do trabalho em madeira, onde o folheado é uma camada fina\n",
    "de madeira de boa qualidade colada à superfície de uma madeira mais barata para\n",
    "melhorar a aparência.\n",
    "\n",
    "Nesse caso, add_card é um método “fino” que expressa uma operação de lista em termos\n",
    "adequados a baralhos. Ele melhora a aparência ou interface da implementação."
   ]
  },
  {
   "cell_type": "code",
   "execution_count": 29,
   "id": "587e6df0",
   "metadata": {},
   "outputs": [],
   "source": [
    "\"\"\"Em outro exemplo, podemos escrever um método Deck denominado shuffle, usando a\n",
    "função shuffle do módulo random:\"\"\"\n",
    "import random\n",
    "class Deck:\n",
    "    def __init__(self):\n",
    "        self.cards = []\n",
    "        for suit in range(4):\n",
    "            for rank in range(1, 14):\n",
    "                card = Card(suit, rank)\n",
    "                self.cards.append(card)\n",
    "    def __str__(self):\n",
    "        res = []\n",
    "        for card in self.cards:\n",
    "            res.append(str(card))\n",
    "        return '\\n'.join(res)\n",
    "    def pop_card(self):\n",
    "        return self.cards.pop()\n",
    "    def add_card(self, card):\n",
    "        self.cards.append(card)\n",
    "    def shuffle(self):\n",
    "        random.shuffle(self.cards)    "
   ]
  },
  {
   "cell_type": "markdown",
   "id": "04229519",
   "metadata": {},
   "source": [
    "<div style=\"text-align: center\"> <h2> \n",
    "Herança\n",
    "    </h2> </div>"
   ]
  },
  {
   "cell_type": "markdown",
   "id": "fd5e6627",
   "metadata": {},
   "source": [
    "A herança é a capacidade de definir uma nova classe que seja uma versão modificada de\n",
    "uma classe existente. Como exemplo, digamos que queremos que uma classe represente\n",
    "uma “mão”, isto é, as cartas mantidas por um jogador. Uma mão é semelhante a um\n",
    "baralho: ambos são compostos por uma coleção de cartas, e ambos exigem operações\n",
    "como adicionar e remover cartas.\n",
    "\n",
    "Uma mão também é diferente de um baralho; há operações que queremos para mãos que\n",
    "não fazem sentido para um baralho. Por exemplo, no pôquer poderíamos comparar duas\n",
    "mãos para ver qual ganha. No bridge, poderíamos calcular a pontuação de uma mão para\n",
    "fazer uma aposta.\n",
    "\n",
    "Essa relação entre classes – semelhante, mas diferente – adequa-se à herança. Para definir\n",
    "uma nova classe que herda algo de uma classe existente, basta colocar o nome da classe\n",
    "existente entre parênteses:"
   ]
  },
  {
   "cell_type": "code",
   "execution_count": 30,
   "id": "3165d2ea",
   "metadata": {},
   "outputs": [],
   "source": [
    "class Hand(Deck):\n",
    "    \"\"\"Represents a hand of playing cards.\"\"\""
   ]
  },
  {
   "cell_type": "code",
   "execution_count": 31,
   "id": "48673cf8",
   "metadata": {},
   "outputs": [
    {
     "data": {
      "text/plain": [
       "'Esta definição indica que Hand herda de Deck; isso significa que podemos usar métodos\\ncomo pop_card e add_card para Hand bem como para Deck.\\nQuando uma nova classe herda de uma existente, a existente chama-se pai e a nova classe\\nchama-se filho.\\nNeste exemplo, Hand herda __init__ de Deck, mas na verdade não faz o que queremos:\\nem vez de preencher a mão com 52 cartas novas, o método init de Hand deve inicializar\\ncard com uma lista vazia.'"
      ]
     },
     "execution_count": 31,
     "metadata": {},
     "output_type": "execute_result"
    }
   ],
   "source": [
    "\"\"\"Esta definição indica que Hand herda de Deck; isso significa que podemos usar métodos\n",
    "como pop_card e add_card para Hand bem como para Deck.\n",
    "Quando uma nova classe herda de uma existente, a existente chama-se pai e a nova classe\n",
    "chama-se filho.\n",
    "Neste exemplo, Hand herda __init__ de Deck, mas na verdade não faz o que queremos:\n",
    "em vez de preencher a mão com 52 cartas novas, o método init de Hand deve inicializar\n",
    "card com uma lista vazia.\"\"\""
   ]
  },
  {
   "cell_type": "code",
   "execution_count": 32,
   "id": "b1bcd4c0",
   "metadata": {},
   "outputs": [],
   "source": [
    "\"\"\"Se fornecermos um método init na classe Hand, ele ignora o da classe Deck:\"\"\"\n",
    "class Hand(Deck):\n",
    "    \"\"\"Represents a hand of playing cards.\"\"\"\n",
    "    def __init__(self, label=''):\n",
    "        self.cards = []\n",
    "        self.label = label"
   ]
  },
  {
   "cell_type": "code",
   "execution_count": 33,
   "id": "857ce791",
   "metadata": {},
   "outputs": [
    {
     "data": {
      "text/plain": [
       "[]"
      ]
     },
     "execution_count": 33,
     "metadata": {},
     "output_type": "execute_result"
    }
   ],
   "source": [
    "\"\"\"Ao criar Hand, o Python invoca este método init, não o de Deck.\"\"\"\n",
    "hand = Hand('new hand')\n",
    "hand.cards"
   ]
  },
  {
   "cell_type": "code",
   "execution_count": 34,
   "id": "4c58319f",
   "metadata": {},
   "outputs": [
    {
     "data": {
      "text/plain": [
       "'new hand'"
      ]
     },
     "execution_count": 34,
     "metadata": {},
     "output_type": "execute_result"
    }
   ],
   "source": [
    "hand.label"
   ]
  },
  {
   "cell_type": "code",
   "execution_count": 35,
   "id": "e59c0a1d",
   "metadata": {},
   "outputs": [
    {
     "name": "stdout",
     "output_type": "stream",
     "text": [
      "King of Spades\n"
     ]
    }
   ],
   "source": [
    "\"\"\"Outros métodos são herdados de Deck, portanto podemos usar pop_card e add_card para\n",
    "lidar com uma carta:\"\"\"\n",
    "deck = Deck()\n",
    "card = deck.pop_card()\n",
    "hand.add_card(card)\n",
    "print(hand)"
   ]
  },
  {
   "cell_type": "markdown",
   "id": "20494eb1",
   "metadata": {},
   "source": [
    "Um próximo passo natural seria encapsular este código em um método chamado\n",
    "move_cards:"
   ]
  },
  {
   "cell_type": "code",
   "execution_count": 36,
   "id": "1778985e",
   "metadata": {},
   "outputs": [],
   "source": [
    "import random\n",
    "class Deck:\n",
    "    def __init__(self):\n",
    "        self.cards = []\n",
    "        for suit in range(4):\n",
    "            for rank in range(1, 14):\n",
    "                card = Card(suit, rank)\n",
    "                self.cards.append(card)\n",
    "    def __str__(self):\n",
    "        res = []\n",
    "        for card in self.cards:\n",
    "            res.append(str(card))\n",
    "        return '\\n'.join(res)\n",
    "    def pop_card(self):\n",
    "        return self.cards.pop()\n",
    "    def add_card(self, card):\n",
    "        self.cards.append(card)\n",
    "    def shuffle(self):\n",
    "        random.shuffle(self.cards)   \n",
    "    def move_cards(self, hand, num):\n",
    "        for i in range(num):\n",
    "            hand.add_card(self.pop_card())"
   ]
  },
  {
   "cell_type": "markdown",
   "id": "276671cb",
   "metadata": {},
   "source": [
    "move_cards recebe dois argumentos, um objeto Hand e o número de cartas com que vai\n",
    "lidar. Ele altera tanto self como hand e retorna None."
   ]
  },
  {
   "cell_type": "markdown",
   "id": "1eb08566",
   "metadata": {},
   "source": [
    "Em alguns jogos, as cartas são movidas de uma mão a outra, ou de uma mão de volta ao\n",
    "baralho. É possível usar move_cards para algumas dessas operações: self pode ser um\n",
    "Deck ou Hand, e hand, apesar do nome, também pode ser um Deck.\n",
    "\n",
    "A herança é um recurso útil. Alguns programas que poderiam ser repetitivos sem herança\n",
    "podem ser escritos de forma mais elegante com ela. A herança pode facilitar a reutilização\n",
    "de código, já que você pode personalizar o comportamento de classes pais sem ter que\n",
    "alterá-las. Em alguns casos, a estrutura de herança reflete a estrutura natural do problema,\n",
    "o que torna o projeto mais fácil de entender.\n",
    "\n",
    "De outro lado, a herança pode tornar os programas difíceis de ler. Quando um método é\n",
    "invocado, às vezes não está claro onde encontrar sua definição. O código relevante pode\n",
    "ser espalhado por vários módulos. Além disso, muitas das coisas que podem ser feitas\n",
    "usando a herança podem ser feitas sem elas, às vezes, até de forma melhor."
   ]
  },
  {
   "cell_type": "code",
   "execution_count": null,
   "id": "2be1292d",
   "metadata": {},
   "outputs": [],
   "source": []
  }
 ],
 "metadata": {
  "kernelspec": {
   "display_name": "Python 3 (ipykernel)",
   "language": "python",
   "name": "python3"
  },
  "language_info": {
   "codemirror_mode": {
    "name": "ipython",
    "version": 3
   },
   "file_extension": ".py",
   "mimetype": "text/x-python",
   "name": "python",
   "nbconvert_exporter": "python",
   "pygments_lexer": "ipython3",
   "version": "3.9.7"
  }
 },
 "nbformat": 4,
 "nbformat_minor": 5
}
