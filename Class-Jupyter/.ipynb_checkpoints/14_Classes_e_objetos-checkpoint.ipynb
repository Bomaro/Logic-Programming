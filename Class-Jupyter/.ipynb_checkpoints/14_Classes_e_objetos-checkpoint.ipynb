{
 "cells": [
  {
   "cell_type": "markdown",
   "id": "fe474443",
   "metadata": {},
   "source": [
    "<div style=\"text-align: center\"> <h2> \n",
    "Classes e objetos\n",
    "    </h2> </div>"
   ]
  },
  {
   "cell_type": "markdown",
   "id": "cf3cc30d",
   "metadata": {},
   "source": [
    "A esta altura você já sabe como usar funções para organizar código e tipos integrados para\n",
    "organizar dados. O próximo passo é aprender “programação orientada a objeto”, que usa\n",
    "tipos definidos pelos programadores para organizar tanto o código quanto os dados. A\n",
    "programação orientada a objeto é um tópico abrangente."
   ]
  },
  {
   "cell_type": "markdown",
   "id": "dd31400c",
   "metadata": {},
   "source": [
    "<div style=\"text-align: center\"> <h2> \n",
    "Tipos definidos pelos programadores\n",
    "    </h2> </div>"
   ]
  },
  {
   "cell_type": "markdown",
   "id": "1295c746",
   "metadata": {},
   "source": [
    "Já usamos muitos tipos integrados do Python; agora vamos definir um tipo próprio. Como\n",
    "exemplo, criaremos um tipo chamado Point, que representa um ponto no espaço\n",
    "bidimensional.\n",
    "\n",
    "Na notação matemática, os pontos muitas vezes são escritos entre parênteses, com uma\n",
    "vírgula separando as coordenadas. Por exemplo, (0,0) representa a origem e (x, y)\n",
    "representa o ponto que está x unidades à direita e y unidades acima da origem.\n",
    "\n",
    "Há várias formas para representar pontos no Python:\n",
    "\n",
    "Podemos armazenar as coordenadas separadamente em duas variáveis, x e y.\n",
    "\n",
    "Podemos armazenar as coordenadas como elementos em uma lista ou tupla.\n",
    "\n",
    "Podemos criar um tipo para representar pontos como objetos.\n",
    "\n",
    "Criar um tipo é mais complicado que outras opções, mas tem vantagens que logo ficarão\n",
    "evidentes."
   ]
  },
  {
   "cell_type": "code",
   "execution_count": 1,
   "id": "fd8b623d",
   "metadata": {},
   "outputs": [],
   "source": [
    "\"\"\"Um tipo definido pelo programador também é chamado de classe. Uma definição de\n",
    "classe pode ser assim:\"\"\"\n",
    "\n",
    "class Point:\n",
    "    \"\"\"Representa um ponto em 2-D no espaço.\"\"\""
   ]
  },
  {
   "cell_type": "code",
   "execution_count": 2,
   "id": "52b6ba5a",
   "metadata": {},
   "outputs": [
    {
     "data": {
      "text/plain": [
       "'O cabeçalho indica que a nova classe se chama Point. O corpo é uma docstring que\\nexplica para que a classe serve. Você pode definir variáveis e métodos dentro de uma\\ndefinição de classe, mas voltaremos a isso depois.'"
      ]
     },
     "execution_count": 2,
     "metadata": {},
     "output_type": "execute_result"
    }
   ],
   "source": [
    "\"\"\"O cabeçalho indica que a nova classe se chama Point. O corpo é uma docstring que\n",
    "explica para que a classe serve. Você pode definir variáveis e métodos dentro de uma\n",
    "definição de classe, mas voltaremos a isso depois.\"\"\""
   ]
  },
  {
   "cell_type": "code",
   "execution_count": 3,
   "id": "f70bab80",
   "metadata": {},
   "outputs": [
    {
     "data": {
      "text/plain": [
       "__main__.Point"
      ]
     },
     "execution_count": 3,
     "metadata": {},
     "output_type": "execute_result"
    }
   ],
   "source": [
    "\"\"\"Definir uma classe denominada Point cria um objeto de classe:\"\"\"\n",
    "Point"
   ]
  },
  {
   "cell_type": "code",
   "execution_count": 4,
   "id": "15784d98",
   "metadata": {},
   "outputs": [
    {
     "data": {
      "text/plain": [
       "<__main__.Point at 0x2d7cee71b80>"
      ]
     },
     "execution_count": 4,
     "metadata": {},
     "output_type": "execute_result"
    }
   ],
   "source": [
    "\"\"\"Como Point é definido no nível superior, seu “nome completo” é __main__.Point.\n",
    "O objeto de classe é como uma fábrica para criar objetos. Para criar um Point, você\n",
    "chama Point como se fosse uma função:\"\"\"\n",
    "\n",
    "blank = Point()\n",
    "blank"
   ]
  },
  {
   "cell_type": "markdown",
   "id": "0add1668",
   "metadata": {},
   "source": [
    "O valor de retorno é uma referência a um objeto Point, ao qual atribuímos blank."
   ]
  },
  {
   "cell_type": "markdown",
   "id": "f2814423",
   "metadata": {},
   "source": [
    "Criar um objeto chama-se instanciação, e o objeto é uma instância da classe.\n",
    "Quando você exibe uma instância, o Python diz a que classe ela pertence e onde está\n",
    "armazenada na memória (o prefixo o 0x significa que o número seguinte está em formato\n",
    "hexadecimal)."
   ]
  },
  {
   "cell_type": "markdown",
   "id": "f0619729",
   "metadata": {},
   "source": [
    "Cada objeto é uma instância de alguma classe, então “objeto” e “instância” são\n",
    "intercambiáveis. Porém, neste capítulo uso “instância” para indicar que estou falando\n",
    "sobre um tipo definido pelo programador."
   ]
  },
  {
   "cell_type": "markdown",
   "id": "63bec6db",
   "metadata": {},
   "source": [
    "<div style=\"text-align: center\"> <h2> \n",
    "Atributos\n",
    "    </h2> </div>"
   ]
  },
  {
   "cell_type": "code",
   "execution_count": 6,
   "id": "790a25de",
   "metadata": {},
   "outputs": [],
   "source": [
    "\"\"\"Você pode atribuir valores a uma instância usando a notação de ponto:\"\"\"\n",
    "blank.x = 3.0\n",
    "blank.y = 4.0"
   ]
  },
  {
   "cell_type": "markdown",
   "id": "a8c6a3bc",
   "metadata": {},
   "source": [
    "Essa sintaxe é semelhante à usada para selecionar uma variável de um módulo, como\n",
    "math.pi ou string.whitespace. Nesse caso, entretanto, estamos atribuindo valores a\n",
    "elementos nomeados de um objeto. Esses elementos chamam-se atributos."
   ]
  },
  {
   "cell_type": "code",
   "execution_count": 8,
   "id": "bbc5104e",
   "metadata": {},
   "outputs": [
    {
     "data": {
      "text/plain": [
       "4.0"
      ]
     },
     "execution_count": 8,
     "metadata": {},
     "output_type": "execute_result"
    }
   ],
   "source": [
    "\"\"\"A variável blank refere-se a um objeto Point, que contém dois atributos. Cada atributo\n",
    "refere-se a um número de ponto flutuante.\"\"\"\n",
    "#Você pode ler o valor de um atributo usando a mesma sintaxe:\n",
    "\n",
    "blank.y"
   ]
  },
  {
   "cell_type": "code",
   "execution_count": 9,
   "id": "ba40bc45",
   "metadata": {},
   "outputs": [
    {
     "data": {
      "text/plain": [
       "3.0"
      ]
     },
     "execution_count": 9,
     "metadata": {},
     "output_type": "execute_result"
    }
   ],
   "source": [
    "x = blank.x\n",
    "x"
   ]
  },
  {
   "cell_type": "markdown",
   "id": "fc8057a4",
   "metadata": {},
   "source": [
    "A expressão blank.x significa “Vá ao objeto a que blank se refere e pegue o valor de x”.\n",
    "No exemplo, atribuímos este valor a uma variável x. Não há nenhum conflito entre a\n",
    "variável x e o atributo x."
   ]
  },
  {
   "cell_type": "code",
   "execution_count": 10,
   "id": "9a715fa4",
   "metadata": {},
   "outputs": [
    {
     "data": {
      "text/plain": [
       "'(3, 4)'"
      ]
     },
     "execution_count": 10,
     "metadata": {},
     "output_type": "execute_result"
    }
   ],
   "source": [
    "\"\"\"Você pode usar a notação de ponto como parte de qualquer expressão. Por exemplo:\"\"\"\n",
    "'(%g, %g)' % (blank.x, blank.y)"
   ]
  },
  {
   "cell_type": "code",
   "execution_count": 13,
   "id": "e29719ab",
   "metadata": {},
   "outputs": [
    {
     "data": {
      "text/plain": [
       "5.0"
      ]
     },
     "execution_count": 13,
     "metadata": {},
     "output_type": "execute_result"
    }
   ],
   "source": [
    "import math\n",
    "distance = math.sqrt(blank.x ** 2 + blank.y ** 2)\n",
    "distance"
   ]
  },
  {
   "cell_type": "code",
   "execution_count": 14,
   "id": "456bc9d8",
   "metadata": {},
   "outputs": [],
   "source": [
    "\"\"\"Você pode passar uma instância como argumento da forma habitual. Por exemplo:\"\"\"\n",
    "def print_point(p):\n",
    "    print('(%g, %g)' % (p.x, p.y))"
   ]
  },
  {
   "cell_type": "code",
   "execution_count": 15,
   "id": "2dd2dc6d",
   "metadata": {},
   "outputs": [
    {
     "name": "stdout",
     "output_type": "stream",
     "text": [
      "(3, 4)\n"
     ]
    }
   ],
   "source": [
    "\"\"\"print_point toma um ponto como argumento e o exibe em notação matemática. Para\n",
    "invocá-lo, você pode passar blank como argumento:\"\"\"\n",
    "\n",
    "print_point(blank)"
   ]
  },
  {
   "cell_type": "markdown",
   "id": "a8472a41",
   "metadata": {},
   "source": [
    "Dentro da função, p é um alias para blank, então, se a função altera p, blank também\n",
    "muda."
   ]
  },
  {
   "cell_type": "markdown",
   "id": "f2cd8c0e",
   "metadata": {},
   "source": [
    "<div style=\"text-align: center\"> <h2> \n",
    "Retângulos\n",
    "    </h2> </div>"
   ]
  },
  {
   "cell_type": "markdown",
   "id": "d9add976",
   "metadata": {},
   "source": [
    "Às vezes, é óbvio quais deveriam ser os atributos de um objeto, mas outras é preciso\n",
    "decidir entre as possibilidades. Por exemplo, vamos supor que você esteja criando uma\n",
    "classe para representar retângulos. Que atributos usaria para especificar a posição e o\n",
    "tamanho de um retângulo? Você pode ignorar ângulo; para manter as coisas simples,\n",
    "suponha que o retângulo seja vertical ou horizontal.\n",
    "\n",
    "Há duas possibilidades, no mínimo:\n",
    "\n",
    "1-Você pode especificar um canto do retângulo (ou o centro), a largura e a altura.\n",
    "\n",
    "2-Você pode especificar dois cantos opostos.\n",
    "\n",
    "Nesse ponto é difícil dizer qual opção é melhor, então implementaremos a primeira, como\n",
    "exemplo."
   ]
  },
  {
   "cell_type": "code",
   "execution_count": 18,
   "id": "2e17d220",
   "metadata": {},
   "outputs": [],
   "source": [
    "\"\"\"Aqui está a definição de classe:\"\"\"\n",
    "\n",
    "class Rectangle:\n",
    "    \"\"\"Represents a rectangle.\n",
    "    attributes: width, height, corner.\n",
    "    \"\"\""
   ]
  },
  {
   "cell_type": "markdown",
   "id": "f9cf8570",
   "metadata": {},
   "source": [
    "A docstring lista os atributos: width e height são números; corner é um objeto Point que\n",
    "especifica o canto inferior esquerdo."
   ]
  },
  {
   "cell_type": "code",
   "execution_count": 19,
   "id": "e7784c71",
   "metadata": {},
   "outputs": [],
   "source": [
    "\"\"\"Para representar um retângulo, você tem que instanciar um objeto Rectangle e atribuir\n",
    "valores aos atributos:\"\"\"\n",
    "box = Rectangle()\n",
    "box.width = 100.0\n",
    "box.height = 200.0\n",
    "box.corner = Point()\n",
    "box.corner.x = 0.0\n",
    "box.corner.y = 0.0"
   ]
  },
  {
   "cell_type": "markdown",
   "id": "a53aef0e",
   "metadata": {},
   "source": [
    "A expressão box.corner.x significa “Vá ao objeto ao qual box se refere e pegue o atributo\n",
    "denominado corner; então vá a este objeto e pegue o atributo denominado x”."
   ]
  },
  {
   "cell_type": "markdown",
   "id": "1c18610f",
   "metadata": {},
   "source": [
    "<div style=\"text-align: center\"> <h2> \n",
    "Instâncias como valores de retorno\n",
    "    </h2> </div>"
   ]
  },
  {
   "cell_type": "code",
   "execution_count": 21,
   "id": "f30369fe",
   "metadata": {},
   "outputs": [],
   "source": [
    "\"\"\"As funções podem retornar instâncias. Por exemplo, find_center recebe um Rectangle\n",
    "como argumento e devolve um Point, que contém as coordenadas do centro do retângulo:\"\"\"\n",
    "def find_center(rect):\n",
    "    p = Point()\n",
    "    p.x = rect.corner.x + rect.width/2\n",
    "    p.y = rect.corner.y + rect.height/2\n",
    "    return p"
   ]
  },
  {
   "cell_type": "code",
   "execution_count": 22,
   "id": "4f19b248",
   "metadata": {},
   "outputs": [
    {
     "name": "stdout",
     "output_type": "stream",
     "text": [
      "(50, 100)\n"
     ]
    }
   ],
   "source": [
    "\"\"\"Aqui está um exemplo que passa box como um argumento para find_center e atribui o\n",
    "ponto resultante à variável center:\"\"\"\n",
    "center = find_center(box)\n",
    "print_point(center)\n"
   ]
  },
  {
   "cell_type": "markdown",
   "id": "99e8cb8a",
   "metadata": {},
   "source": [
    "<div style=\"text-align: center\"> <h2> \n",
    "Objetos são mutáveis\n",
    "    </h2> </div>"
   ]
  },
  {
   "cell_type": "code",
   "execution_count": 24,
   "id": "5c12078a",
   "metadata": {},
   "outputs": [],
   "source": [
    "\"\"\"Você pode alterar o estado de um objeto fazendo uma atribuição a um dos seus atributos.\n",
    "Por exemplo, para mudar o tamanho de um retângulo sem mudar sua posição, você pode\n",
    "alterar os valores de width e height:\n",
    "\"\"\"\n",
    "\n",
    "box.width = box.width + 50\n",
    "box.height = box.height + 100"
   ]
  },
  {
   "cell_type": "code",
   "execution_count": 25,
   "id": "55f0ee02",
   "metadata": {},
   "outputs": [],
   "source": [
    "\"\"\"Você também pode escrever funções que alteram objetos. Por exemplo, grow_rectangle\n",
    "recebe um objeto Rectangle e dois números, dwidth e dheight, e adiciona os números à\n",
    "largura e altura do retângulo:\"\"\"\n",
    "def grow_rectangle(rect, dwidth, dheight):\n",
    "    rect.width += dwidth\n",
    "    rect.height += dheight"
   ]
  },
  {
   "cell_type": "code",
   "execution_count": 27,
   "id": "4bb16d59",
   "metadata": {},
   "outputs": [
    {
     "data": {
      "text/plain": [
       "(150.0, 300.0)"
      ]
     },
     "execution_count": 27,
     "metadata": {},
     "output_type": "execute_result"
    }
   ],
   "source": [
    "\"\"\"Eis um exemplo que demonstra o efeito:\"\"\"\n",
    "\n",
    "box.width, box.height\n"
   ]
  },
  {
   "cell_type": "code",
   "execution_count": 28,
   "id": "afdc39bf",
   "metadata": {},
   "outputs": [
    {
     "data": {
      "text/plain": [
       "(200.0, 400.0)"
      ]
     },
     "execution_count": 28,
     "metadata": {},
     "output_type": "execute_result"
    }
   ],
   "source": [
    "grow_rectangle(box, 50, 100)\n",
    "box.width, box.height"
   ]
  },
  {
   "cell_type": "markdown",
   "id": "fcea6719",
   "metadata": {},
   "source": [
    "Dentro da função, rect é um alias de box, então quando a função altera rect, box aponta\n",
    "para o objeto alterado."
   ]
  },
  {
   "cell_type": "markdown",
   "id": "a8320b6d",
   "metadata": {},
   "source": [
    "<div style=\"text-align: center\"> <h2> \n",
    "Cópia\n",
    "    </h2> </div>"
   ]
  },
  {
   "cell_type": "markdown",
   "id": "e5c7f948",
   "metadata": {},
   "source": [
    "Alias podem tornar um programa difícil de ler porque as alterações em um lugar podem\n",
    "ter efeitos inesperados em outro lugar. É difícil monitorar todas as variáveis que podem\n",
    "referir-se a um dado objeto."
   ]
  },
  {
   "cell_type": "code",
   "execution_count": 29,
   "id": "7407bde4",
   "metadata": {},
   "outputs": [],
   "source": [
    "\"\"\"Em vez de usar alias, copiar o objeto pode ser uma alternativa. O módulo copy contém\n",
    "uma função chamada copy que pode duplicar qualquer objeto:\"\"\"\n",
    "p1 = Point()\n",
    "p1.x = 3.0\n",
    "p1.y = 4.0\n",
    "import copy\n",
    "p2 = copy.copy(p1)"
   ]
  },
  {
   "cell_type": "code",
   "execution_count": 30,
   "id": "2babfa67",
   "metadata": {},
   "outputs": [
    {
     "name": "stdout",
     "output_type": "stream",
     "text": [
      "(3, 4)\n"
     ]
    }
   ],
   "source": [
    "\"\"\"p1 e p2 contêm os mesmos dados, mas não são o mesmo Point:\"\"\"\n",
    "\n",
    "print_point(p1)"
   ]
  },
  {
   "cell_type": "code",
   "execution_count": 31,
   "id": "8f860f13",
   "metadata": {},
   "outputs": [
    {
     "name": "stdout",
     "output_type": "stream",
     "text": [
      "(3, 4)\n"
     ]
    }
   ],
   "source": [
    "print_point(p2)"
   ]
  },
  {
   "cell_type": "code",
   "execution_count": 32,
   "id": "8ca80915",
   "metadata": {},
   "outputs": [
    {
     "data": {
      "text/plain": [
       "False"
      ]
     },
     "execution_count": 32,
     "metadata": {},
     "output_type": "execute_result"
    }
   ],
   "source": [
    "p1 is p2"
   ]
  },
  {
   "cell_type": "code",
   "execution_count": 33,
   "id": "f951c981",
   "metadata": {},
   "outputs": [
    {
     "data": {
      "text/plain": [
       "False"
      ]
     },
     "execution_count": 33,
     "metadata": {},
     "output_type": "execute_result"
    }
   ],
   "source": [
    "p1 == p2"
   ]
  },
  {
   "cell_type": "markdown",
   "id": "db03aad8",
   "metadata": {},
   "source": [
    "O operador is indica que p1 e p2 não são o mesmo objeto, que é o que esperamos. Porém,\n",
    "você poderia ter esperado que == fosse apresentado como True, porque esses pontos\n",
    "contêm os mesmos dados. Nesse caso, pode ficar desapontado ao saber que, para\n",
    "instâncias, o comportamento padrão do operador == é o mesmo que o do operador is; ele\n",
    "verifica a identidade dos objetos, não a sua equivalência. Isso acontece porque, para tipos\n",
    "definidos pelo programador, o Python não sabe o que deve ser considerado equivalente.\n",
    "Pelo menos, ainda não."
   ]
  },
  {
   "cell_type": "code",
   "execution_count": 34,
   "id": "c2286a28",
   "metadata": {},
   "outputs": [
    {
     "data": {
      "text/plain": [
       "False"
      ]
     },
     "execution_count": 34,
     "metadata": {},
     "output_type": "execute_result"
    }
   ],
   "source": [
    "\"\"\"Se você usar copy.copy para duplicar um retângulo, descobrirá que ele copia o objeto\n",
    "Rectangle, mas não o Point embutido nele:\"\"\"\n",
    "\n",
    "box2 = copy.copy(box)\n",
    "box2 is box"
   ]
  },
  {
   "cell_type": "code",
   "execution_count": 35,
   "id": "fce35af1",
   "metadata": {},
   "outputs": [
    {
     "data": {
      "text/plain": [
       "True"
      ]
     },
     "execution_count": 35,
     "metadata": {},
     "output_type": "execute_result"
    }
   ],
   "source": [
    "box2.corner is box.corner"
   ]
  },
  {
   "cell_type": "markdown",
   "id": "85bd2432",
   "metadata": {},
   "source": [
    "Para a maior parte das aplicações, não é isso que você quer. Nesse exemplo, invocar\n",
    "grow_rectangle em um dos Rectangles não afetaria o outro, mas invocar\n",
    "move_rectangle em qualquer um deles afetaria a ambos! Esse comportamento é confuso e\n",
    "propenso a erros."
   ]
  },
  {
   "cell_type": "code",
   "execution_count": 36,
   "id": "a0c30ee0",
   "metadata": {},
   "outputs": [
    {
     "data": {
      "text/plain": [
       "False"
      ]
     },
     "execution_count": 36,
     "metadata": {},
     "output_type": "execute_result"
    }
   ],
   "source": [
    "\"\"\"Felizmente, o módulo copy oferece um método chamado deepcopy que copia não só o\n",
    "objeto, mas também os objetos aos quais ele se refere, e os objetos aos quais estes se\n",
    "referem, e assim por diante. Você não se surpreenderá ao descobrir que esta operação se\n",
    "chama cópia profunda.\"\"\"\n",
    "\n",
    "box3 = copy.deepcopy(box)\n",
    "box3 is box"
   ]
  },
  {
   "cell_type": "code",
   "execution_count": 37,
   "id": "ab279ee7",
   "metadata": {},
   "outputs": [
    {
     "data": {
      "text/plain": [
       "False"
      ]
     },
     "execution_count": 37,
     "metadata": {},
     "output_type": "execute_result"
    }
   ],
   "source": [
    "box3.corner is box.corner"
   ]
  },
  {
   "cell_type": "markdown",
   "id": "f6ae31e8",
   "metadata": {},
   "source": [
    "box3 e box são objetos completamente separados."
   ]
  },
  {
   "cell_type": "markdown",
   "id": "5e75eb35",
   "metadata": {},
   "source": [
    "<div style=\"text-align: center\"> <h2> \n",
    "Depuração\n",
    "    </h2> </div> "
   ]
  },
  {
   "cell_type": "code",
   "execution_count": 39,
   "id": "5faed7fb",
   "metadata": {},
   "outputs": [
    {
     "ename": "AttributeError",
     "evalue": "'Point' object has no attribute 'z'",
     "output_type": "error",
     "traceback": [
      "\u001b[1;31m---------------------------------------------------------------------------\u001b[0m",
      "\u001b[1;31mAttributeError\u001b[0m                            Traceback (most recent call last)",
      "\u001b[1;32m~\\AppData\\Local\\Temp/ipykernel_7292/621155508.py\u001b[0m in \u001b[0;36m<module>\u001b[1;34m\u001b[0m\n\u001b[0;32m      5\u001b[0m \u001b[0mp\u001b[0m\u001b[1;33m.\u001b[0m\u001b[0mx\u001b[0m \u001b[1;33m=\u001b[0m \u001b[1;36m3\u001b[0m\u001b[1;33m\u001b[0m\u001b[1;33m\u001b[0m\u001b[0m\n\u001b[0;32m      6\u001b[0m \u001b[0mp\u001b[0m\u001b[1;33m.\u001b[0m\u001b[0my\u001b[0m \u001b[1;33m=\u001b[0m \u001b[1;36m4\u001b[0m\u001b[1;33m\u001b[0m\u001b[1;33m\u001b[0m\u001b[0m\n\u001b[1;32m----> 7\u001b[1;33m \u001b[0mp\u001b[0m\u001b[1;33m.\u001b[0m\u001b[0mz\u001b[0m\u001b[1;33m\u001b[0m\u001b[1;33m\u001b[0m\u001b[0m\n\u001b[0m",
      "\u001b[1;31mAttributeError\u001b[0m: 'Point' object has no attribute 'z'"
     ]
    }
   ],
   "source": [
    "\"\"\"Ao começar a trabalhar com objetos, provavelmente você encontrará algumas novas\n",
    "exceções. Se tentar acessar um atributo que não existe, recebe um AttributeError:\"\"\"\n",
    "\n",
    "p = Point()\n",
    "p.x = 3\n",
    "p.y = 4\n",
    "p.z"
   ]
  },
  {
   "cell_type": "code",
   "execution_count": 40,
   "id": "3f98f894",
   "metadata": {},
   "outputs": [
    {
     "data": {
      "text/plain": [
       "__main__.Point"
      ]
     },
     "execution_count": 40,
     "metadata": {},
     "output_type": "execute_result"
    }
   ],
   "source": [
    "\"\"\"Se não estiver certo sobre o tipo que um objeto é, pode perguntar:\"\"\"\n",
    "type(p)"
   ]
  },
  {
   "cell_type": "code",
   "execution_count": 41,
   "id": "a885e79e",
   "metadata": {},
   "outputs": [
    {
     "data": {
      "text/plain": [
       "True"
      ]
     },
     "execution_count": 41,
     "metadata": {},
     "output_type": "execute_result"
    }
   ],
   "source": [
    "\"\"\"Você também pode usar isinstance para verificar se um objeto é uma instância de uma\n",
    "classe:\"\"\"\n",
    "isinstance(p, Point)"
   ]
  },
  {
   "cell_type": "code",
   "execution_count": 42,
   "id": "855d867d",
   "metadata": {},
   "outputs": [
    {
     "data": {
      "text/plain": [
       "True"
      ]
     },
     "execution_count": 42,
     "metadata": {},
     "output_type": "execute_result"
    }
   ],
   "source": [
    "\"\"\"Caso não tenha certeza se um objeto tem determinado atributo, você pode usar a função\n",
    "integrada hasattr:\"\"\"\n",
    "\n",
    "hasattr(p, \"x\")"
   ]
  },
  {
   "cell_type": "code",
   "execution_count": 43,
   "id": "799038d6",
   "metadata": {},
   "outputs": [
    {
     "data": {
      "text/plain": [
       "False"
      ]
     },
     "execution_count": 43,
     "metadata": {},
     "output_type": "execute_result"
    }
   ],
   "source": [
    "hasattr(p, 'z')"
   ]
  },
  {
   "cell_type": "markdown",
   "id": "891df391",
   "metadata": {},
   "source": [
    "O primeiro argumento pode ser qualquer objeto; o segundo argumento é uma string com\n",
    "o nome do atributo."
   ]
  },
  {
   "cell_type": "code",
   "execution_count": 45,
   "id": "d36b8a62",
   "metadata": {},
   "outputs": [],
   "source": [
    "\"\"\"Você também pode usar uma instrução try para ver se o objeto tem os atributos de que\n",
    "precisa:\n",
    "\"\"\"\n",
    "try:\n",
    "    x = p.x\n",
    "except AttributeError:\n",
    "    x = 0"
   ]
  },
  {
   "cell_type": "code",
   "execution_count": 46,
   "id": "5a9be963",
   "metadata": {},
   "outputs": [
    {
     "data": {
      "text/plain": [
       "'Essa abordagem pode facilitar a escrita de funções que atuam com tipos diferentes; você\\nverá mais informações sobre isso em “Polimorfismo”, na página 248.'"
      ]
     },
     "execution_count": 46,
     "metadata": {},
     "output_type": "execute_result"
    }
   ],
   "source": [
    "\"\"\"Essa abordagem pode facilitar a escrita de funções que atuam com tipos diferentes; você\n",
    "verá mais informações sobre isso em “Polimorfismo”, na página 248.\"\"\""
   ]
  },
  {
   "cell_type": "code",
   "execution_count": null,
   "id": "14c383c4",
   "metadata": {},
   "outputs": [],
   "source": []
  }
 ],
 "metadata": {
  "kernelspec": {
   "display_name": "Python 3 (ipykernel)",
   "language": "python",
   "name": "python3"
  },
  "language_info": {
   "codemirror_mode": {
    "name": "ipython",
    "version": 3
   },
   "file_extension": ".py",
   "mimetype": "text/x-python",
   "name": "python",
   "nbconvert_exporter": "python",
   "pygments_lexer": "ipython3",
   "version": "3.9.7"
  }
 },
 "nbformat": 4,
 "nbformat_minor": 5
}
