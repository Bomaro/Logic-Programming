{
 "cells": [
  {
   "cell_type": "markdown",
   "id": "497973f5",
   "metadata": {
    "slideshow": {
     "slide_type": "slide"
    }
   },
   "source": [
    "<div style=\"text-align: center\">\n",
    "    <h1 style=\"color:snow;font-family:verdana\"> Introdução a orientação a objetos </h1>\n",
    "</div> \n",
    "    <br></br>\n",
    "    <br></br>\n",
    "    <br></br>\n",
    "<div>\n",
    "    <p style=\"color:Snow;font-family:Times New Roman;text-align: right\"> Prof. Me. Rafael Bomaro Ferreira </p> \n",
    "    <p style=\"color:Snow;font-family:Courier;text-align: right\"> 04/04/2022 </p> \n",
    "</div>"
   ]
  },
  {
   "cell_type": "markdown",
   "id": "7df0574b",
   "metadata": {
    "slideshow": {
     "slide_type": "subslide"
    }
   },
   "source": [
    "<div style=\"text-align: center\">\n",
    "    <h3 style=\"color:Snow;font-family:verdana\"> Apresentação </h3>\n",
    "</div> \n",
    "<div>\n",
    "   <p style=\"color:Snow;font-family:verdana;text-align: justify\"> Mestre em Engenharia Elétrica - UFSC </p>  \n",
    "    <p style=\"color:Snow;font-family:verdana;text-align: justify\"> Especialista em Petróleo e Energias - UNESA </p>  \n",
    "    <p style=\"color:Snow;font-family:verdana;text-align: justify\">  Engenheiro Eletricista - UNESA </p>  \n",
    "    <p style=\"color:Snow;font-family:verdana;text-align: justify\"> Tecnólogo em Sistemas Elétricos - IFF </p>  \n",
    "    <p style=\"color:Snow;font-family:verdana;text-align: justify\"> Atualmente responsável pela área de gestão e comercialização de energia na Cotesa Energia e Professor de cursos rápidos do SENAI/SC</p>   \n",
    "</div>"
   ]
  },
  {
   "cell_type": "markdown",
   "id": "7974a9e0",
   "metadata": {
    "slideshow": {
     "slide_type": "slide"
    }
   },
   "source": [
    "<div style=\"color:snow;text-align: left\">\n",
    "    <p><strong>Agenda</strong></p>\n",
    "<ul>\n",
    "    <li>Conceitos prévios</li>\n",
    "    <li>A linguagem não importa!</li>\n",
    "    <li>Motivação e Problema</li>\n",
    "    <li>Programação Imperativa</li>\n",
    "    <li>Orientação a Objetos - Conceitos: classe, atributo, método</li>\n",
    "    <li>Resolução do Problema</li>\n",
    "    <li>Exercício</li>\n",
    "</ul>\n",
    "</div>"
   ]
  },
  {
   "cell_type": "markdown",
   "id": "0b894396",
   "metadata": {
    "slideshow": {
     "slide_type": "slide"
    }
   },
   "source": [
    "<div style=\"text-align: center\">\n",
    "    <h5 style=\"color:snow;font-family:verdana\"> Conceitos prévios </h5>\n",
    "</div> \n",
    "<div style=\"text-align: justify;font-size:70%\">\n",
    "    <p> Até aqui vocês já devem ter aprendido:</p>\n",
    "    <ul>\n",
    "    <li>Algoritmos</li>\n",
    "    <li>Linguagens de programação</li>\n",
    "    <li>Variáveis</li>\n",
    "    <li>Operadores</li>\n",
    "    <li>Estrutura Condicional</li>\n",
    "    <li>Estruturas de repetição</li>\n",
    "</ul>\n",
    "</div> "
   ]
  },
  {
   "cell_type": "markdown",
   "id": "bdde009d",
   "metadata": {
    "slideshow": {
     "slide_type": "slide"
    }
   },
   "source": [
    "<div style=\"text-align: center\">\n",
    "    <h5 style=\"color:snow;font-family:verdana\"> A linguagem não importa! </h5>\n",
    "</div> \n",
    "<div style=\"text-align: justify;font-size:70%\">\n",
    "    <p> O mundo na programação está evoluindo muito rápido assim como as tecnologias e linguagens, é importante\n",
    "        entendermos o conceito por trás de um tema, somente assim poderemos aplica-los em qualquer linguagem.\n",
    "    </p>\n",
    "</div> \n",
    "\n",
    "#### Top Programming Languages 2021 - <a href=\"https://spectrum.ieee.org/top-programming-languages/#toggle-gdpr\">IEEE</a>"
   ]
  },
  {
   "cell_type": "markdown",
   "id": "3574339c",
   "metadata": {
    "slideshow": {
     "slide_type": "fragment"
    }
   },
   "source": [
    "<div id='faturaDeEnergia'> <center><img src=\"Images/IEEE.png\" \n",
    "     width=\"400\" \n",
    "     height=\"500\"\n",
    "                                     /> </center>\n",
    "    </div>\n"
   ]
  },
  {
   "cell_type": "markdown",
   "id": "a6dc923a",
   "metadata": {
    "cell_style": "split",
    "slideshow": {
     "slide_type": "slide"
    }
   },
   "source": [
    "<div style=\"text-align: center\">\n",
    "    <h5 style=\"color:snow;font-family:verdana\"> Motivação e Problema </h5>\n",
    "</div> \n",
    "<div style=\"text-align: justify;font-size:70%\">\n",
    "    <p> Uma empresa na área de energia ajuda líderes de negócios e pessoas físicas a reduzirem custo na conta de luz.</p> \n",
    "    <p>O cliente final pode reduzir 20% do seu custo na fatura de energia elétrica. \n",
    "    </p>\n",
    "     <p>Essa empresa precisa de um programa que cadastre  as informações contidas na fatura de energia como: N° da Unidade Consumidora (UC), Consumo Total Faturado e Valor Até o Vencimento e apresente qual o valor total do desconto em reais ofertado.\n",
    "    </p>\n",
    "</div> "
   ]
  },
  {
   "cell_type": "markdown",
   "id": "de09525f",
   "metadata": {
    "cell_style": "split",
    "slideshow": {
     "slide_type": "fragment"
    }
   },
   "source": [
    "<div id='faturaDeEnergia'> <img src=\"faturaDeEnergia.png\" alt=\"faturaDeEnergia\" style=\"float: center; margin-center: 15px;\"> </div>"
   ]
  },
  {
   "cell_type": "code",
   "execution_count": null,
   "id": "49243e9b",
   "metadata": {
    "slideshow": {
     "slide_type": "skip"
    }
   },
   "outputs": [],
   "source": []
  },
  {
   "cell_type": "markdown",
   "id": "4d8ea61a",
   "metadata": {
    "cell_style": "split",
    "slideshow": {
     "slide_type": "slide"
    }
   },
   "source": [
    "<div style=\"text-align: center\">\n",
    "    <h5 style=\"color:snow;font-family:verdana\"> Montagem do algoritmo (Portugol) </h5>\n",
    "</div> \n",
    "<div style=\"text-align: justify;font-size:70%\">\n",
    "    <p> Utilizaremos duas faturas de energia distintas como exemplo:\n",
    "    </p><p>\n",
    "       Vamos precisar ler os dados (uc, consumoTotalFaturado e valorAteOVencimento) e mostrar a soma de desconto aplicado nas duas faturas de energia:\n",
    "    </p><p><strong>\n",
    "    Dados da primeira fatura de energia:\n",
    "    </strong></p><p>\n",
    "    uc: 123456\n",
    "    </p><p>\n",
    "    consumoTotalFaturado: 5998\n",
    "    </p><p>\n",
    "    valorAteOVencimento: 5892.85\n",
    "    </p><p><strong>\n",
    "    Dados da segunda fatura de energia:\n",
    "    </strong></p><p>\n",
    "    uc: 123789\n",
    "    </p><p>\n",
    "    consumoTotalFaturado: 3890\n",
    "    </p><p>\n",
    "    valorAteOVencimento: 4019.55\n",
    "    </p><p><strong>\n",
    "    A soma de desconto aplicado nas duas faturas de energia foi de: \n",
    "    </strong></p><p>\n",
    "    (5892.85 + 4019.55)*0.2 = R$ 1982.48\n",
    "</p>\n",
    "</div> \n"
   ]
  },
  {
   "cell_type": "markdown",
   "id": "bd22d5ab",
   "metadata": {
    "cell_style": "split",
    "slideshow": {
     "slide_type": "fragment"
    }
   },
   "source": [
    "<div id='faturaDeEnergia'> <img src=\"faturaDeEnergia.png\" alt=\"faturaDeEnergia\" style=\"float: center; margin-center: 15px;\"> </div>\n",
    "<div id='faturaDeEnergia'> <img src=\"faturaDeEnergia2.png\" alt=\"faturaDeEnergia1\" style=\"float: center; margin-center: 15px;\"> </div>"
   ]
  },
  {
   "cell_type": "markdown",
   "id": "9f747260",
   "metadata": {
    "slideshow": {
     "slide_type": "slide"
    }
   },
   "source": [
    "<div style=\"text-align: center\">\n",
    "    <h5 style=\"color:snow;font-family:verdana\"> Programação Imperativa </h5>\n",
    "</div> \n",
    "<div style=\"text-align: justify;font-size:70%\">\n",
    "    <p> É o paradigma de programação mais famoso.</p> \n",
    "    <p>Paradigma nada mais é que a forma de fazer algo. Em programação, é a orientação que os códigos vão ter.</p>\n",
    "   <p> Nas linguagens imperativas – como C e PHP, os códigos são escritos como uma lista de instruções \n",
    "    que o computador lê e executa. Igual uma receita de bolo, vamos seguindo o passo a passo para entrega final.</p>\n",
    "   <p> É como se fossem comandos para a máquina, por isso programação imperativa. \n",
    "    </p>\n",
    "</div> \n"
   ]
  },
  {
   "cell_type": "code",
   "execution_count": 11,
   "id": "f3a2ecd6",
   "metadata": {
    "cell_style": "split",
    "slideshow": {
     "slide_type": "subslide"
    }
   },
   "outputs": [
    {
     "name": "stdout",
     "output_type": "stream",
     "text": [
      "Digite os dados da primeira fatura de energia\n",
      "\n",
      "Digite o número da unidade consumidora:\n",
      "123456\n",
      "Digite o consumo total faturado:\n",
      "5898\n",
      "Digite o valor até o vencimento:\n",
      "5892.85\n"
     ]
    }
   ],
   "source": [
    "\"\"\"Código para primeira fatura de energia\"\"\"\n",
    "print(\"Digite os dados da primeira fatura de energia\\n\") #print imprimir dados para o usuário\n",
    "\n",
    "uc1 = input('Digite o número da unidade consumidora:\\n') #input permite que o usuário passe ao programa algum tipo de dado.\n",
    "consumoTotalFaturado1 = int(input('Digite o consumo total faturado:\\n')) #int torna o dado do tipo inteiro.\n",
    "valorAteOVencimento1 = float(input('Digite o valor até o vencimento:\\n')) #float torna o dado do tipo decimal."
   ]
  },
  {
   "cell_type": "markdown",
   "id": "6b52b4eb",
   "metadata": {
    "cell_style": "split",
    "slideshow": {
     "slide_type": "fragment"
    }
   },
   "source": [
    "<div id='faturaDeEnergia'> <center><img src=\"faturadeenergiaat.png\" width=\"600\" height=\"600\">\n",
    "    </center> </div>"
   ]
  },
  {
   "cell_type": "code",
   "execution_count": null,
   "id": "009ed841",
   "metadata": {
    "slideshow": {
     "slide_type": "skip"
    }
   },
   "outputs": [],
   "source": []
  },
  {
   "cell_type": "code",
   "execution_count": 2,
   "id": "412b477c",
   "metadata": {
    "cell_style": "split",
    "slideshow": {
     "slide_type": "subslide"
    }
   },
   "outputs": [
    {
     "name": "stdout",
     "output_type": "stream",
     "text": [
      "Digite os dados da segunda fatura de energia\n",
      "\n",
      "Digite o número da unidade consumidora:\n",
      "123789\n",
      "Digite o consumo total faturado:\n",
      "3890\n",
      "Digite o valor até o vencimento:\n",
      "4019.55\n"
     ]
    }
   ],
   "source": [
    "\"\"\"Código para segunda fatura de energia\"\"\"\n",
    "print(\"Digite os dados da segunda fatura de energia\\n\")\n",
    "uc2 = input('Digite o número da unidade consumidora:\\n') \n",
    "consumoTotalFaturado2 = int(input('Digite o consumo total faturado:\\n'))\n",
    "valorAteOVencimento2 = float(input('Digite o valor até o vencimento:\\n'))"
   ]
  },
  {
   "cell_type": "markdown",
   "id": "ac255e55",
   "metadata": {
    "cell_style": "split",
    "slideshow": {
     "slide_type": "fragment"
    }
   },
   "source": [
    "<div id='faturaDeEnergia'> <center><img src=\"faturadeenergia2at.png\" width=\"600\" height=\"600\">\n",
    "    </center> </div>"
   ]
  },
  {
   "cell_type": "code",
   "execution_count": null,
   "id": "0e40d738",
   "metadata": {
    "slideshow": {
     "slide_type": "skip"
    }
   },
   "outputs": [],
   "source": []
  },
  {
   "cell_type": "code",
   "execution_count": 3,
   "id": "b48081ef",
   "metadata": {
    "slideshow": {
     "slide_type": "subslide"
    }
   },
   "outputs": [
    {
     "name": "stdout",
     "output_type": "stream",
     "text": [
      "A soma de desconto aplicado nas duas faturas de energia foi de:\n",
      "R$ 1982.48\n"
     ]
    }
   ],
   "source": [
    "\"\"\"Cálculo do desconto total\"\"\"\n",
    "\n",
    "descontoTotal= float((valorAteOVencimento1+valorAteOVencimento2)*0.20)\n",
    " \n",
    "print(\"A soma de desconto aplicado nas duas faturas de energia foi de:\\nR$ %.2f\" %(descontoTotal)) #.2f(duas casas após,)\n",
    "\n",
    " "
   ]
  },
  {
   "cell_type": "markdown",
   "id": "46e5510d",
   "metadata": {
    "slideshow": {
     "slide_type": "slide"
    }
   },
   "source": [
    "<div style=\"text-align: center\">\n",
    "    <h5 style=\"color:snow;font-family:verdana\"> Orientação a Objetos - Conceitos: classe, atributo, método </h5>\n",
    "</div> \n",
    "<div style=\"text-align: justify;font-size:50%\">\n",
    "      <p> Orientação a Objeto – é um estilo de programação ou paradigma de programação, onde você vai fazer uso de certos recursos específicos de orientação a objetos, como encapsulamento, herança, polimorfismo dentre outros recursos.\n",
    "    </p>\n",
    "    <p> Por isso, primeiro, precisamos entender o que é classe e objeto , conceitos importantes do\n",
    "paradigma orientado a objetos e depois veremos como isso funciona na prática.\n",
    "    </p>\n",
    "    <p> Ex.: Quando vamos preparar um bolo, geralmente seguimos uma receita que define os ingredientes e o modo\n",
    "de preparação. O objeto concreto neste caso seria o bolo que precisa de uma\n",
    "receita pré-definida. E a \"receita\" no mundo OO (Orientação a Objeto) recebe o nome de classe. Ou seja, antes de criarmos um\n",
    "objeto, definiremos uma classe.\n",
    "    </p>\n",
    "    <p> A Classe é importante porque ela é um tipo de dado customizado, ela tem atributos (dados) e métodos (comportamentos). \n",
    "    </p>\n",
    "    <p>\n",
    "Na linguagem C por exemplo, que não é orientada a objeto, você pode criar um tipo customizado chamado de struct , porém ele só tem dados.\n",
    "    </p>\n",
    "     </div> \n"
   ]
  },
  {
   "cell_type": "markdown",
   "id": "52e1d414",
   "metadata": {
    "slideshow": {
     "slide_type": "subslide"
    }
   },
   "source": [
    "<div style=\"text-align: justify;font-size:100%\">\n",
    "              <p><strong> Atenção </strong>\n",
    "    </p>\n",
    "      <p>Pode parecer óbvio, mas a dificuldade inicial do paradigma da orientação a objetos é justamente\n",
    "saber distinguir o que é classe e o que é objeto. É comum quando iniciamos utilizar, obviamente de forma\n",
    "errada, essas duas palavras como sinônimos.\n",
    "    </p>\n",
    "</div> \n"
   ]
  },
  {
   "cell_type": "markdown",
   "id": "ab978c47",
   "metadata": {
    "slideshow": {
     "slide_type": "subslide"
    }
   },
   "source": [
    "<div style=\"text-align: center\">\n",
    "    <h6 style=\"color:snow;font-family:verdana\"> Considerações </h6>\n",
    "</div> \n",
    "<div style=\"text-align: justify;font-size:80%\">\n",
    "    <p> A solução anterior está desestruturada e espalhada. \n",
    "    </p>\n",
    "    <p>\n",
    " Primeiro passo para estruturar seria criar uma classe para representar as faturas de energia.\n",
    "    </p>\n",
    "    <p>\n",
    "        Na orientação a objetos, além de dados vimos que existem comportamentos (métodos), que nada mais é que só um outro nome para funções, só que dentro da classe.\n",
    "    </p>\n",
    "      <p> Outra analogia que podemos fazer é entre o projeto de um carro e o carro em si. O\n",
    "projeto é a classe e o carro, construído a partir deste projeto, é o objeto. \n",
    "    </p><p>O projeto da fatura de energia é a classe. O que podemos construir (instanciar) a partir dessa classe, as contas de luz (faturas de energia), damos o nome de objetos.\n",
    "    </p>\n",
    "    <p>Então, cada <i>FaturasDeEnergia</i> vai ter um resultado da sua função, do seu método diferente.\n",
    "</p>\n",
    "</div> \n"
   ]
  },
  {
   "cell_type": "markdown",
   "id": "19be1308",
   "metadata": {
    "slideshow": {
     "slide_type": "slide"
    }
   },
   "source": [
    "<div style=\"text-align: center\">\n",
    "    <h6 style=\"color:snow;font-family:verdana\"> Que tipo de dado precisamos criar para melhor representar os dados na nossa solução ? </h6>\n",
    "</div> \n",
    "<div style=\"text-align: justify;font-size:80%\">\n",
    "      <p><br> Quem seria a receita e o bolo?\n",
    "    </br></p>\n",
    "   </div> "
   ]
  },
  {
   "cell_type": "markdown",
   "id": "8baf9a4b",
   "metadata": {
    "cell_style": "split",
    "slideshow": {
     "slide_type": "fragment"
    }
   },
   "source": [
    "<div id='faturaDeEnergia'> <center><img src=\"receitaebolo.jpg\" width=\"400\" height=\"400\">\n",
    "    <img src=\"carro.png\" width=\"600\" height=\"600\">\n",
    "    </center></div>"
   ]
  },
  {
   "cell_type": "markdown",
   "id": "46f84853",
   "metadata": {
    "cell_style": "split",
    "slideshow": {
     "slide_type": "fragment"
    }
   },
   "source": [
    "<div id='faturaDeEnergia'> <center><img src=\"classefatura.png\" width=\"300\" height=\"300\">\n",
    "    </center> </div>"
   ]
  },
  {
   "cell_type": "code",
   "execution_count": null,
   "id": "38603cc2",
   "metadata": {
    "slideshow": {
     "slide_type": "skip"
    }
   },
   "outputs": [],
   "source": []
  },
  {
   "cell_type": "code",
   "execution_count": 12,
   "id": "b87c1c60",
   "metadata": {
    "cell_style": "center",
    "slideshow": {
     "slide_type": "slide"
    }
   },
   "outputs": [],
   "source": [
    "# Criando uma classe chamada FaturasDeEnergia\n",
    "class FaturasDeEnergia(): \n",
    "    # Este método vai inicializar cada objeto criado a partir desta classe\n",
    "    # O nome deste método é __init__\n",
    "    # (self) é uma referência a cada atributo de um objeto criado a partir desta cl asse\n",
    "    def __init__(self, uc, consumoTotalFaturado, valorAteOVencimento):\n",
    "        # Atributos de cada objeto criado a partir desta classe.\n",
    "        # O self indica que estes são atributos dos objetos\n",
    "        self.uc = uc\n",
    "        self.consumoTotalFaturado = int(consumoTotalFaturado) \n",
    "        self.valorAteOVencimento = float(valorAteOVencimento)\n",
    "        #print(\"Construtor chamado para criar um objeto desta classe\")\n",
    "    def desconto(self):\n",
    "        return self.valorAteOVencimento * .2 "
   ]
  },
  {
   "cell_type": "markdown",
   "id": "15c4771d",
   "metadata": {
    "cell_style": "center",
    "scrolled": true,
    "slideshow": {
     "slide_type": "fragment"
    }
   },
   "source": [
    "<div id='faturaDeEnergia'> <center><img src=\"classefatura1.png\" width=\"600\" height=\"600\">\n",
    "    </center> </div>"
   ]
  },
  {
   "cell_type": "code",
   "execution_count": null,
   "id": "fda57900",
   "metadata": {
    "slideshow": {
     "slide_type": "skip"
    }
   },
   "outputs": [],
   "source": []
  },
  {
   "cell_type": "code",
   "execution_count": 5,
   "id": "8e3acbc5",
   "metadata": {
    "cell_style": "split",
    "slideshow": {
     "slide_type": "slide"
    }
   },
   "outputs": [
    {
     "name": "stdout",
     "output_type": "stream",
     "text": [
      "Digite os dados das faturas de energia\n",
      "\n",
      "Digite o número da unidade consumidora:\n",
      "123456\n",
      "Digite o consumo total faturado:\n",
      "5998\n",
      "Digite o valor até o vencimento:\n",
      "5892.85\n",
      "Digite o número da outra unidade consumidora:\n",
      "123789\n",
      "Digite o  consumo total faturado:\n",
      "3890\n",
      "Digite o valor até o vencimento:\n",
      "4019.55\n",
      "A soma de desconto aplicado nas duas faturas de energia foi de:\n",
      "R$ 1982.48\n"
     ]
    }
   ],
   "source": [
    "print(\"Digite os dados das faturas de energia\\n\")\n",
    "\n",
    "f1 = FaturasDeEnergia(input('Digite o número da unidade consumidora:\\n'),\\\n",
    "                      input('Digite o consumo total faturado:\\n'),\\\n",
    "                      input('Digite o valor até o vencimento:\\n'))\n",
    " \n",
    "f2 = FaturasDeEnergia(input('Digite o número da outra unidade consumidora:\\n'),\\\n",
    "                      input('Digite o  consumo total faturado:\\n'),\\\n",
    "                      input('Digite o valor até o vencimento:\\n'))\n",
    " \n",
    "descontoTotal = f1.desconto() + f2.desconto()\n",
    " \n",
    "print(\"A soma de desconto aplicado nas duas faturas de energia foi de:\\nR$ %.2f\" %(descontoTotal)) \n",
    "#.2f(duas casas após,) "
   ]
  },
  {
   "cell_type": "markdown",
   "id": "6d53dfd3",
   "metadata": {
    "cell_style": "split",
    "scrolled": false,
    "slideshow": {
     "slide_type": "fragment"
    }
   },
   "source": [
    "<div id='faturaDeEnergia'> <center><img src=\"memoria4.png\" width=\"600\" height=\"600\">\n",
    "    </center> </div>"
   ]
  },
  {
   "cell_type": "markdown",
   "id": "f4928ce7",
   "metadata": {
    "slideshow": {
     "slide_type": "slide"
    }
   },
   "source": [
    "<div style=\"text-align: center\">\n",
    "    <h5 style=\"color:snow;font-family:verdana\"> IDE - ambiente de desenvolvimento integrado </h5>\n",
    "</div> \n",
    "<div style=\"text-align: justify;font-size:100%\">\n",
    "    <p> PyCharm - <a href=\"https://www.jetbrains.com/pycharm/\">link</a>\n",
    "    </p>\n",
    "    </div> "
   ]
  },
  {
   "cell_type": "markdown",
   "id": "3fe433d6",
   "metadata": {
    "slideshow": {
     "slide_type": "fragment"
    }
   },
   "source": [
    "<div id='pycharm'> <center><img src=\"pycharm.png\" width=\"400\" height=\"400\">\n",
    "    </center> </div>"
   ]
  },
  {
   "cell_type": "markdown",
   "id": "633905ae",
   "metadata": {
    "slideshow": {
     "slide_type": "slide"
    }
   },
   "source": [
    "<div style=\"text-align: center\">\n",
    "    <h5 style=\"color:snow;font-family:verdana\"> Vantagens </h5>\n",
    "</div> \n",
    "<div style=\"text-align: justify;font-size:70%\">\n",
    "    <p> – Todo software orientado a objeto é confiável (ao alterar uma parte nenhuma outra é afetada)\n",
    "    </p>\n",
    "    <p> – É oportuno (ao dividir tudo em partes, várias delas podem ser desenvolvidas em paralelo)\n",
    "    </p>\n",
    "    <p> – É manutenível (atualizar um software é mais fácil, uma pequena modificação beneficia todas as partes que usarem o objeto)\n",
    "    </p>\n",
    "    <p> – Ele também é extensível (o software não é estático, deve crescer para permanecer útil)\n",
    "    </p>\n",
    "    <p> – É reutilizável (podemos usar o objeto de um sistema que criamos em outro sistema que viermos a criar)\n",
    "    </p>\n",
    "     <p> – Ele é natural (todo software orientado a objeto tem que ser natural, pois é mais fácil de entender, se preocupa mais com a funcionalidade do que com os detalhes de implementação)\n",
    "    </p>\n",
    "    </div> \n"
   ]
  },
  {
   "cell_type": "markdown",
   "id": "1c8e05ed",
   "metadata": {
    "cell_style": "center",
    "slideshow": {
     "slide_type": "slide"
    }
   },
   "source": [
    "<div style=\"text-align: center\">\n",
    "    <h5 style=\"color:snow;font-family:verdana\"> Exercício </h5>\n",
    "</div> \n",
    "<div style=\"text-align: justify;font-size:70%\">\n",
    "    <p> Exercício</p>\n",
    "    <p>Crie uma classe que representa uma entidade do tipo Pessoa!</p>\n",
    "    <p>Ela deve ter os seguintes campos:</p>\n",
    "<p><center>Nome como String;\n",
    "Idade como Inteiro;\n",
    "    Altura como Decimal.</center></p>\n",
    "    <p>Também deve ter métodos para:</p>\n",
    "<p><center>Dizer “Olá”;\n",
    "    </center></p>\n",
    "<p>Solução no GitHub\n",
    "    </p>\n",
    "    </div> \n"
   ]
  },
  {
   "cell_type": "code",
   "execution_count": 6,
   "id": "7b9abf0c",
   "metadata": {
    "slideshow": {
     "slide_type": "subslide"
    }
   },
   "outputs": [],
   "source": [
    "class Pessoa:\n",
    "    def __init__(self, nome: str, idade: int, altura: float):\n",
    "        self.nome = nome\n",
    "        self.idade = idade\n",
    "        self.altura = altura\n",
    "\n",
    "    def dizer_ola(self):\n",
    "        print(f'Olá, meu nome é {self.nome}. Tenho {self.idade} '\n",
    "              f'anos e minha altura é {self.altura}m.')\n"
   ]
  },
  {
   "cell_type": "code",
   "execution_count": 7,
   "id": "c43e98f2",
   "metadata": {
    "slideshow": {
     "slide_type": "fragment"
    }
   },
   "outputs": [
    {
     "name": "stdout",
     "output_type": "stream",
     "text": [
      "Olá, meu nome é Rafael. Tenho 30 anos e minha altura é 1.76m.\n"
     ]
    }
   ],
   "source": [
    "p1 = Pessoa('Rafael',\"30\",'1.76')\n",
    "p1.dizer_ola()"
   ]
  }
 ],
 "metadata": {
  "celltoolbar": "Slideshow",
  "kernelspec": {
   "display_name": "Python 3 (ipykernel)",
   "language": "python",
   "name": "python3"
  },
  "language_info": {
   "codemirror_mode": {
    "name": "ipython",
    "version": 3
   },
   "file_extension": ".py",
   "mimetype": "text/x-python",
   "name": "python",
   "nbconvert_exporter": "python",
   "pygments_lexer": "ipython3",
   "version": "3.9.7"
  }
 },
 "nbformat": 4,
 "nbformat_minor": 5
}
